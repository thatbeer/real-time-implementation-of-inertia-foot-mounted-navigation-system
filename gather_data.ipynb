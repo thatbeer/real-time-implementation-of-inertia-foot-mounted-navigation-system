{
 "cells": [
  {
   "cell_type": "code",
   "execution_count": 2,
   "metadata": {},
   "outputs": [],
   "source": [
    "import numpy as np\n",
    "import matplotlib.pyplot as plt"
   ]
  },
  {
   "cell_type": "code",
   "execution_count": 3,
   "metadata": {},
   "outputs": [
    {
     "data": {
      "image/png": "[encoded data removed]",
      "text/plain": [
       "<Figure size 288x288 with 1 Axes>"
      ]
     },
     "metadata": {
      "needs_background": "light"
     },
     "output_type": "display_data"
    }
   ],
   "source": [
    "def simple_compass(yaw_degrees):\n",
    "    # Convert degrees to radians for calculation\n",
    "    yaw_radians = np.radians(yaw_degrees)\n",
    "\n",
    "    # Set up the plot\n",
    "    fig, ax = plt.subplots(figsize=(4, 4))\n",
    "    ax.set_xlim(-1, 1)\n",
    "    ax.set_ylim(-1, 1)\n",
    "\n",
    "    # Draw the compass circle\n",
    "    circle = plt.Circle((0, 0), 1, edgecolor='black', facecolor='none')\n",
    "    ax.add_patch(circle)\n",
    "\n",
    "    # Calculate needle coordinates based on yaw\n",
    "    end_x = np.sin(yaw_radians)\n",
    "    end_y = np.cos(yaw_radians)\n",
    "\n",
    "    # Draw the compass needle\n",
    "    ax.annotate('', xy=(end_x, end_y), xytext=(0, 0),\n",
    "                arrowprops=dict(facecolor='red', shrink=0, width=1, headwidth=8))\n",
    "\n",
    "    # Hide axes\n",
    "    ax.set_aspect('equal', 'box')\n",
    "    ax.axis('off')\n",
    "\n",
    "    plt.show()\n",
    "\n",
    "# Example usage\n",
    "simple_compass(90)  "
   ]
  },
  {
   "cell_type": "code",
   "execution_count": 2,
   "metadata": {},
   "outputs": [],
   "source": [
    "import sys\n",
    "import threading\n",
    "import time\n",
    "import numpy as np\n",
    "import matplotlib.pyplot as plt\n",
    "from matplotlib.backends.backend_tkagg import FigureCanvasTkAgg\n",
    "import tkinter as tk\n",
    "from tkinter import ttk\n",
    "import xsensdeviceapi as xda\n",
    "# from mpl_toolkits.mplot3d import Axes3D\n",
    "\n",
    "# from omegaconf import OmegaConf\n",
    "\n",
    "# from Init_det_glrt import Init_det_glrt\n",
    "# from ZUPTaidedINS import ZUPTaidedINS\n",
    "# from detector import detector_adaptive\n",
    "# # from xda_utils import *\n",
    "# from INS import INS\n",
    "\n",
    "from threading import Lock\n",
    "\n",
    "class Payload:\n",
    "    def __init__(self):\n",
    "        self.timestamp = []\n",
    "        self.acc = np.array([0, 0, 0])\n",
    "        self.angular_velocity = np.array([0, 0, 0])\n",
    "\n",
    "class XdaCallback(xda.XsCallback):\n",
    "    def __init__(self, max_buffer_size=5):\n",
    "        super().__init__()\n",
    "        self.m_maxNumberOfPacketsInBuffer = max_buffer_size\n",
    "        self.m_packetBuffer = list()\n",
    "        self.m_lock = Lock()\n",
    "\n",
    "    def packetAvailable(self):\n",
    "        with self.m_lock:\n",
    "            return len(self.m_packetBuffer) > 0\n",
    "\n",
    "    def getNextPacket(self):\n",
    "        with self.m_lock:\n",
    "            assert len(self.m_packetBuffer) > 0\n",
    "            return xda.XsDataPacket(self.m_packetBuffer.pop(0))\n",
    "\n",
    "    def onLiveDataAvailable(self, dev, packet):\n",
    "        with self.m_lock:\n",
    "            assert packet is not None\n",
    "            if len(self.m_packetBuffer) >= self.m_maxNumberOfPacketsInBuffer:\n",
    "                self.m_packetBuffer.pop(0)\n",
    "            self.m_packetBuffer.append(xda.XsDataPacket(packet))\n",
    "\n",
    "class Scanner:\n",
    "    def __init__(self, retries=3, wait_time=1):\n",
    "        self.control = xda.XsControl_construct()\n",
    "        assert self.control != 0\n",
    "        self.device = None\n",
    "        self.retries = retries\n",
    "        self.wait_time = wait_time\n",
    "\n",
    "    def scan_and_open(self):\n",
    "        attempt = 0\n",
    "        while attempt < self.retries:\n",
    "            print(\"Scanning for devices... Attempt:\", attempt + 1)\n",
    "            portInfoArray = xda.XsScanner_scanPorts()\n",
    "            \n",
    "            mtPort = xda.XsPortInfo()\n",
    "            for i in range(portInfoArray.size()):\n",
    "                if portInfoArray[i].deviceId().isMti() or portInfoArray[i].deviceId().isMtig():\n",
    "                    mtPort = portInfoArray[i]\n",
    "                    break\n",
    "            \n",
    "            if mtPort.empty():\n",
    "                print(\"No MTi device found. Retrying...\")\n",
    "                attempt += 1\n",
    "                time.sleep(self.wait_time)\n",
    "                continue\n",
    "            \n",
    "            did = mtPort.deviceId()\n",
    "            print(f\"Found a device with ID: {did.toXsString()}, Port: {mtPort.portName()}\")\n",
    "\n",
    "            if not self.control.openPort(mtPort.portName(), mtPort.baudrate()):\n",
    "                raise RuntimeError(\"Could not open port. Aborting.\")\n",
    "            \n",
    "            self.device = self.control.device(did)\n",
    "            assert self.device is not None\n",
    "            print(f\"Device {self.device.productCode()} with ID {self.device.deviceId().toXsString()} opened.\")\n",
    "            return self.device\n",
    "        \n",
    "        raise RuntimeError(\"No MTi device found after multiple attempts. Aborting.\")\n",
    "\n",
    "    def get_device_info(self):\n",
    "        if self.device:\n",
    "            device_info = {\n",
    "                \"Product Code\": self.device.productCode(),\n",
    "                \"Device ID\": self.device.deviceId().toXsString(),\n",
    "                \"Firmware Version\": self.device.firmwareVersion().toXsString()\n",
    "            }\n",
    "            return device_info\n",
    "        return {}\n",
    "\n",
    "    def close(self):\n",
    "        if self.device:\n",
    "            self.device.stopRecording()\n",
    "            self.device.closeLogFile()\n",
    "        if self.control:\n",
    "            self.control.close()\n",
    "        print(\"Disconnected successfully.\")"
   ]
  },
  {
   "cell_type": "code",
   "execution_count": 3,
   "metadata": {},
   "outputs": [],
   "source": [
    "def process_data(data_packet):\n",
    "    acc = data_packet.calibratedAcceleration()\n",
    "    gyro = data_packet.calibratedGyroscopeData()\n",
    "    # timestamp = data_packet.timeStamp().toMilliSeconds()\n",
    "    return np.array([acc[0], acc[1], acc[2], gyro[0], gyro[1], gyro[2]])"
   ]
  },
  {
   "cell_type": "code",
   "execution_count": 4,
   "metadata": {},
   "outputs": [],
   "source": [
    "scanner = Scanner()"
   ]
  },
  {
   "cell_type": "code",
   "execution_count": 5,
   "metadata": {},
   "outputs": [
    {
     "name": "stdout",
     "output_type": "stream",
     "text": [
      "Scanning for devices... Attempt: 1\n",
      "Found a device with ID: 0388044D, Port: COM5\n",
      "Device MTI-3-8A7G6 with ID 0388044D opened.\n"
     ]
    }
   ],
   "source": [
    "device = scanner.scan_and_open()\n",
    "callback = XdaCallback()\n",
    "device.addCallbackHandler(callback)"
   ]
  },
  {
   "cell_type": "code",
   "execution_count": 6,
   "metadata": {},
   "outputs": [
    {
     "ename": "TypeError",
     "evalue": "resetOrientation() missing 1 required positional argument: 'resetmethod'",
     "output_type": "error",
     "traceback": [
      "\u001b[1;31m---------------------------------------------------------------------------\u001b[0m",
      "\u001b[1;31mTypeError\u001b[0m                                 Traceback (most recent call last)",
      "Input \u001b[1;32mIn [6]\u001b[0m, in \u001b[0;36m<cell line: 1>\u001b[1;34m()\u001b[0m\n\u001b[1;32m----> 1\u001b[0m \u001b[43mdevice\u001b[49m\u001b[38;5;241;43m.\u001b[39;49m\u001b[43mresetOrientation\u001b[49m\u001b[43m(\u001b[49m\u001b[43m)\u001b[49m\n",
      "\u001b[1;31mTypeError\u001b[0m: resetOrientation() missing 1 required positional argument: 'resetmethod'"
     ]
    }
   ],
   "source": [
    "device.resetOrientation()"
   ]
  },
  {
   "cell_type": "code",
   "execution_count": 9,
   "metadata": {},
   "outputs": [
    {
     "data": {
      "text/plain": [
       "4"
      ]
     },
     "execution_count": 9,
     "metadata": {},
     "output_type": "execute_result"
    }
   ],
   "source": [
    "xda.XRM_Global  "
   ]
  },
  {
   "cell_type": "code",
   "execution_count": 3,
   "metadata": {},
   "outputs": [
    {
     "name": "stdout",
     "output_type": "stream",
     "text": [
      "Creating XsControl object...\n",
      "Scanning for devices... Attempt: 1\n",
      "Found a device with ID: 0388044D, Port: COM5\n",
      "Device MTI-3-8A7G6 with ID 0388044D opened.\n",
      "Putting device into configuration mode...\n",
      "Configuring the device...\n",
      "Putting device into measurement mode...\n",
      "Starting recording...\n",
      "Main loop. Recording data for 30 seconds.\n",
      "Acc X=4.09, Acc Y=9.58, Acc Z=0.020945\n",
      "Stopping recording...\n",
      "Data saved to 'imu_data.csv'.\n",
      "Closing log file...\n",
      "Removing callback handler...\n",
      "Disconnected successfully.\n",
      "Successful exit.\n"
     ]
    }
   ],
   "source": [
    "import pandas as pd\n",
    "\n",
    "if __name__ == '__main__':\n",
    "    print(\"Creating XsControl object...\")\n",
    "\n",
    "    scanner = Scanner()\n",
    "    try:\n",
    "        device = scanner.scan_and_open()\n",
    "        callback = XdaCallback()\n",
    "        device.addCallbackHandler(callback)\n",
    "\n",
    "        print(\"Putting device into configuration mode...\")\n",
    "        if not device.gotoConfig():\n",
    "            raise RuntimeError(\"Could not put device into configuration mode. Aborting.\")\n",
    "\n",
    "        print(\"Configuring the device...\")\n",
    "        configArray = xda.XsOutputConfigurationArray()\n",
    "        configArray.push_back(xda.XsOutputConfiguration(xda.XDI_PacketCounter, 0))\n",
    "        configArray.push_back(xda.XsOutputConfiguration(xda.XDI_SampleTimeFine, 0))\n",
    "        configArray.push_back(xda.XsOutputConfiguration(xda.XDI_Acceleration, 100))\n",
    "        configArray.push_back(xda.XsOutputConfiguration(xda.XDI_RateOfTurn, 100))\n",
    "        # configArray.push_back(xda.XsOutputConfiguration(xda.XDI_Timestamp, 100))\n",
    "\n",
    "        if not device.setOutputConfiguration(configArray):\n",
    "            raise RuntimeError(\"Could not configure the device. Aborting.\")\n",
    "\n",
    "        # List to store the collected data\n",
    "        imu_data_list = []\n",
    "\n",
    "        print(\"Putting device into measurement mode...\")\n",
    "        if not device.gotoMeasurement():\n",
    "            raise RuntimeError(\"Could not put device into measurement mode. Aborting.\")\n",
    "\n",
    "        print(\"Starting recording...\")\n",
    "        if not device.startRecording():\n",
    "            raise RuntimeError(\"Failed to start recording. Aborting.\")\n",
    "\n",
    "        print(\"Main loop. Recording data for 30 seconds.\")\n",
    "        startTime = xda.XsTimeStamp_nowMs()\n",
    "        while xda.XsTimeStamp_nowMs() - startTime <= 30000:\n",
    "            if callback.packetAvailable():\n",
    "                packet = callback.getNextPacket()\n",
    "                data = process_data(packet)\n",
    "                imu_data_list.append(data)\n",
    "                print(f\"Acc X={data[1]:.2f}, Acc Y={data[2]:.2f}, Acc Z={data[3]:.2f}\\r\", end='', flush=True)\n",
    "\n",
    "        print(\"\\nStopping recording...\")\n",
    "        if not device.stopRecording():\n",
    "            raise RuntimeError(\"Failed to stop recording. Aborting.\")\n",
    "\n",
    "        # Convert list to DataFrame and save to CSV\n",
    "        columns = [\"Acc X (m/s^2)\", \"Acc Y (m/s^2)\", \"Acc Z (m/s^2)\", \"Gyro X (deg/s)\", \"Gyro Y (deg/s)\", \"Gyro Z (deg/s)\"]\n",
    "        imu_data_df = pd.DataFrame(imu_data_list, columns=columns)\n",
    "        imu_data_df.to_csv(\"imu_data.csv\", index=False)\n",
    "        print(\"Data saved to 'imu_data.csv'.\")\n",
    "\n",
    "        print(\"Closing log file...\")\n",
    "        if not device.closeLogFile():\n",
    "            raise RuntimeError(\"Failed to close log file. Aborting.\")\n",
    "\n",
    "        print(\"Removing callback handler...\")\n",
    "        device.removeCallbackHandler(callback)\n",
    "\n",
    "        scanner.close()\n",
    "\n",
    "    except RuntimeError as error:\n",
    "        print(error)\n",
    "        sys.exit(1)\n",
    "    except Exception as e:\n",
    "        print(f\"An unknown fatal error has occurred: {str(e)}. Aborting.\")\n",
    "        sys.exit(1)\n",
    "    else:\n",
    "        print(\"Successful exit.\")\n"
   ]
  },
  {
   "cell_type": "code",
   "execution_count": null,
   "metadata": {},
   "outputs": [],
   "source": []
  }
 ],
 "metadata": {
  "kernelspec": {
   "display_name": "beer",
   "language": "python",
   "name": "python3"
  },
  "language_info": {
   "codemirror_mode": {
    "name": "ipython",
    "version": 3
   },
   "file_extension": ".py",
   "mimetype": "text/x-python",
   "name": "python",
   "nbconvert_exporter": "python",
   "pygments_lexer": "ipython3",
   "version": "3.8.13"
  }
 },
 "nbformat": 4,
 "nbformat_minor": 2
}
