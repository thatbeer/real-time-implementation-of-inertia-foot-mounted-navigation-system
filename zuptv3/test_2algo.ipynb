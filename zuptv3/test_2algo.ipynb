{
 "cells": [
  {
   "cell_type": "code",
   "execution_count": 1,
   "metadata": {},
   "outputs": [],
   "source": [
    "from RTINS import *\n",
    "from Init_det_glrt import Init_det_glrt\n",
    "from func_loaddataset import func_loaddataset\n",
    "from utils import *"
   ]
  },
  {
   "cell_type": "markdown",
   "metadata": {},
   "source": [
    "### ZUPT alogrithm"
   ]
  },
  {
   "cell_type": "code",
   "execution_count": 2,
   "metadata": {},
   "outputs": [],
   "source": [
    "import numpy as np\n",
    "import matplotlib.pyplot as plt\n",
    "\n",
    "from geometrys import q2dcm, dcm2q, Rt2b\n",
    "\n",
    "class INS:\n",
    "    def __init__(self, simdata):\n",
    "        self.simdata = simdata\n",
    "        self.initial_state = None\n",
    "        self.init_xh = None\n",
    "        self.init_quat = None\n",
    "        self.init_cov = None\n",
    "        self.init_P = None\n",
    "        Q, R, H = self.init_QRH()\n",
    "        self.Q = Q\n",
    "        self.R = R\n",
    "        self.H = H\n",
    "\n",
    "        if self.simdata['detector_prio'] == 'normalized velocity':\n",
    "            self.c1, self.c2, self.c3 = -1e2 * self.simdata['Window_size'] / 2, -5e4 * self.simdata['Window_size'] / 2, 100\n",
    "        else:\n",
    "            self.c1, self.c2, self.c3 = -1e2 * self.simdata['Window_size'] / 2, -5e4 * self.simdata['Window_size'] / 2, 0\n",
    "\n",
    "    def init_QRH(self):\n",
    "        Q = np.zeros((6, 6))\n",
    "        H = np.zeros((3, 9))\n",
    "        Q[0:3, 0:3] = np.diag(self.simdata['sigma_acc'].ravel() ** 2)\n",
    "        Q[3:6, 3:6] = np.diag(self.simdata['sigma_gyro'].ravel() ** 2)\n",
    "        H[0:3, 3:6] = np.eye(3)\n",
    "        R = np.diag(self.simdata['sigma_vel'] ** 2)\n",
    "        return Q, R, H\n",
    "    \n",
    "    def init_P_value(self, init_P=None):\n",
    "        if init_P is not None:\n",
    "            return init_P\n",
    "        P = np.zeros((9, 9))\n",
    "        P[0:3, 0:3] = np.diag(self.simdata['sigma_initial_pos'].ravel() ** 2)\n",
    "        P[3:6, 3:6] = np.diag(self.simdata['sigma_initial_vel'].ravel() ** 2)\n",
    "        P[6:9, 6:9] = np.diag(self.simdata['sigma_initial_att'].ravel() ** 2)\n",
    "        return P\n",
    "    \n",
    "    def init_state(self, imu_data, P, init_xh, init_quat):\n",
    "        N = len(imu_data[0])\n",
    "        cov = np.zeros((9, N))\n",
    "        x_h = np.zeros((9, N))\n",
    "        cov[:, 0] = np.diag(P)\n",
    "        if init_xh is None and init_quat is None:\n",
    "            x_h[:, 0], quat = self.init_Nav_eq(imu_data)\n",
    "        else:\n",
    "            x_h[:, 0], quat = init_xh, init_quat\n",
    "        return x_h, quat, cov\n",
    "    \n",
    "    # only use when know init_state form the first batch\n",
    "    def baseline3(self, imu, zupt, logL, adpt_flag, init_state=None, init_quat=None, init_P=None):\n",
    "        N = len(imu[0])\n",
    "        cov = np.zeros((9,N))\n",
    "        x_h = np.zeros((9,N))\n",
    "        cov[:, 0] = np.diag(init_P)\n",
    "        x_h[:, 0] = init_state\n",
    "        quat = init_quat\n",
    "        Id = np.eye(init_P.shape[0])\n",
    "        P = init_P\n",
    "\n",
    "        if adpt_flag:\n",
    "            zupt = np.zeros((1, len(logL[0]) + 5), dtype=bool)\n",
    "            delta_t = 0\n",
    "            gamma = np.zeros(len(logL[0]))\n",
    "\n",
    "        for k in range(1, N):\n",
    "            u_h = self.comp_imu_errors(imu[:, k], x_h[:, k-1])  # Computation of IMU errors\n",
    "            x_h[:, k], quat = self.Navigation_equations(x_h[:, k-1], u_h, quat)  # Navigation equations\n",
    "            F, G = self.state_matrix(quat, u_h)  # State matrix calculation\n",
    "\n",
    "            P = F @ P @ F.T + G @ self.Q @ G.T\n",
    "            P = (P + P.T) / 2\n",
    "            cov[:, k] = np.diag(P)\n",
    "\n",
    "            if adpt_flag:\n",
    "                S = P[3:6, 3:6]\n",
    "                v = x_h[3:6, k]\n",
    "\n",
    "                gamma[k] = self.c1 + self.c2 * delta_t + self.c3 * (v.T @ np.linalg.inv(S) @ v)\n",
    "                if logL[0][k] > gamma[k]:\n",
    "                    zupt[0][k:k + self.simdata['Window_size']] = True\n",
    "                    delta_t = 0\n",
    "                else:\n",
    "                    delta_t += self.simdata['Ts']\n",
    "\n",
    "            if zupt[0][k]:\n",
    "                K = P @ self.H.T @ np.linalg.inv(self.H @ P @ self.H.T + self.R)\n",
    "                z = -x_h[3:6, k]\n",
    "                dx = K @ z\n",
    "                x_h[:, k], quat = self.comp_internal_states(x_h[:, k], dx, quat)\n",
    "                P = (Id - K @ self.H) @ P\n",
    "                P = (P + P.T) / 2\n",
    "                cov[:, k] = np.diag(P)\n",
    "\n",
    "        return x_h, cov, quat, P\n",
    "\n",
    "    def baseline2(self, imu, zupt, logL, adpt_flag, init_state=None, init_quat=None, init_P=None):\n",
    "        N = len(imu[0])\n",
    "        P = self.init_P_value(init_P=init_P)\n",
    "        x_h, quat, cov = self.init_state(imu, P, init_state, init_quat)\n",
    "        Id = np.eye(P.shape[0])\n",
    "        if adpt_flag:\n",
    "            zupt = np.zeros((1, len(logL[0]) + 5), dtype=bool)\n",
    "            delta_t = 0\n",
    "            gamma = np.zeros(len(logL[0]))\n",
    "            if self.simdata['detector_prio'] == 'normalized velocity':\n",
    "                c1, c2, c3 = -1e2 * self.simdata['Window_size'] / 2, -5e4 * self.simdata['Window_size'] / 2, 100\n",
    "            else:\n",
    "                c1, c2, c3 = -1e2 * self.simdata['Window_size'] / 2, -5e4 * self.simdata['Window_size'] / 2, 0\n",
    "\n",
    "\n",
    "        for k in range(1, N):\n",
    "            u_h = self.comp_imu_errors(imu[:, k], x_h[:, k-1])  # Computation of IMU errors\n",
    "            x_h[:, k], quat = self.Navigation_equations(x_h[:, k-1], u_h, quat)  # Navigation equations\n",
    "            F, G = self.state_matrix(quat, u_h)  # State matrix calculation\n",
    "\n",
    "            P = F @ P @ F.T + G @ self.Q @ G.T\n",
    "            P = (P + P.T) / 2\n",
    "            cov[:, k] = np.diag(P)\n",
    "\n",
    "            if adpt_flag:\n",
    "                S = P[3:6, 3:6]\n",
    "                v = x_h[3:6, k]\n",
    "\n",
    "                gamma[k] = c1 + c2 * delta_t + c3 * (v.T @ np.linalg.inv(S) @ v)\n",
    "                if logL[0][k] > gamma[k]:\n",
    "                    zupt[0][k:k + self.simdata['Window_size']] = True\n",
    "                    delta_t = 0\n",
    "                else:\n",
    "                    delta_t += self.simdata['Ts']\n",
    "\n",
    "            if zupt[0][k]:\n",
    "                K = P @ self.H.T @ np.linalg.inv(self.H @ P @ self.H.T + self.R)\n",
    "                z = -x_h[3:6, k]\n",
    "                dx = K @ z\n",
    "                x_h[:, k], quat = self.comp_internal_states(x_h[:, k], dx, quat)\n",
    "                P = (Id - K @ self.H) @ P\n",
    "                P = (P + P.T) / 2\n",
    "                cov[:, k] = np.diag(P)\n",
    "\n",
    "        if adpt_flag:\n",
    "            t = self.simdata['Ts'] * np.arange(N)\n",
    "            gamma[gamma > -1e2] = -1e1\n",
    "        return x_h, cov, quat, P\n",
    "\n",
    "\n",
    "    def detector_adaptive(self, u):\n",
    "        \"\"\"\n",
    "        Wrapper function for running the zero-velocity detection algorithms.\n",
    "        \"\"\"\n",
    "        zupt = np.zeros((1, (len(u[0]))))\n",
    "\n",
    "        T = self.GLRT(u)\n",
    "\n",
    "        # Check if the test statistics T are below the detector threshold\n",
    "        W = self.simdata['Window_size']\n",
    "        for k in range(len(T)):\n",
    "            if T[k] < self.simdata['gamma']:\n",
    "                zupt[0][k:k+W] = 1\n",
    "\n",
    "        # Fix the edges of the detector statistics\n",
    "        T = np.concatenate((np.full(int(np.floor(W/2)), max(T)), T, np.full(int(np.floor(W/2)), max(T))))\n",
    "        \n",
    "        # Log-likelihood\n",
    "        logL = -W / 2 * T\n",
    "\n",
    "        logL = logL[:len(u[0])]\n",
    "\n",
    "        return zupt, logL.reshape(1,-1)\n",
    "    \n",
    "    def GLRT(self, u):\n",
    "        \"\"\"\n",
    "        Function that runs the generalized likelihood test (SHOE detector).\n",
    "        \"\"\"\n",
    "        g = self.simdata['g']\n",
    "        sigma2_a = self.simdata['sigma_a'] ** 2\n",
    "        sigma2_g = self.simdata['sigma_g'] ** 2\n",
    "        W = self.simdata['Window_size']\n",
    "\n",
    "        N = len(u[0])\n",
    "        # print(N, '-',W)\n",
    "        # temp_size = min(N - W + 1,1)\n",
    "        T = np.zeros(N - W + 1)\n",
    "        for k in range(N - W + 1):\n",
    "            ya_m = np.mean(u[0:3, k:k+W], axis=1)\n",
    "            for l in range(k, k + W):\n",
    "                tmp = u[0:3, l] - g * ya_m / np.linalg.norm(ya_m)\n",
    "                T[k] += np.dot(u[3:6, l], u[3:6, l]) / sigma2_g + np.dot(tmp, tmp) / sigma2_a\n",
    "\n",
    "        T = T / W\n",
    "\n",
    "        return T\n",
    "\n",
    "\n",
    "    def baseline(self, u, zupt, logL, adpt_flag, init_state=None, init_quat=None, init_P=None):\n",
    "        N = len(u[0])\n",
    "        P, Q, R, H = self.init_filter(init_P=init_P)  # Initialization of filter\n",
    "\n",
    "        x_h, cov, Id = self.init_vec(N, P)  # Initialization of vectors and matrices\n",
    "        if init_state is not None:\n",
    "            x_h[0:9, 0] = init_state\n",
    "            quat = init_quat\n",
    "        else:\n",
    "            x_h[0:9, 0], quat = self.init_Nav_eq(u)  # Initialization of navigation equations\n",
    "\n",
    "        if adpt_flag:\n",
    "            zupt = np.zeros((1, len(logL[0]) + 5), dtype=bool)\n",
    "            delta_t = 0\n",
    "            gamma = np.zeros(len(logL[0]))\n",
    "            if self.simdata['detector_prio'] == 'normalized velocity':\n",
    "                c1, c2, c3 = -1e2 * self.simdata['Window_size'] / 2, -5e4 * self.simdata['Window_size'] / 2, 100\n",
    "            else:\n",
    "                c1, c2, c3 = -1e2 * self.simdata['Window_size'] / 2, -5e4 * self.simdata['Window_size'] / 2, 0\n",
    "\n",
    "        for k in range(1, N):\n",
    "            u_h = self.comp_imu_errors(u[:, k], x_h[:, k-1])  # Computation of IMU errors\n",
    "            x_h[:, k], quat = self.Navigation_equations(x_h[:, k-1], u_h, quat)  # Navigation equations\n",
    "            F, G = self.state_matrix(quat, u_h)  # State matrix calculation\n",
    "\n",
    "            P = F @ P @ F.T + G @ Q @ G.T\n",
    "            P = (P + P.T) / 2\n",
    "            cov[:, k] = np.diag(P)\n",
    "\n",
    "            if adpt_flag:\n",
    "                S = P[3:6, 3:6]\n",
    "                v = x_h[3:6, k]\n",
    "\n",
    "                gamma[k] = c1 + c2 * delta_t + c3 * (v.T @ np.linalg.inv(S) @ v)\n",
    "                if logL[0][k] > gamma[k]:\n",
    "                    zupt[0][k:k + self.simdata['Window_size']] = True\n",
    "                    delta_t = 0\n",
    "                else:\n",
    "                    delta_t += self.simdata['Ts']\n",
    "\n",
    "            if zupt[0][k]:\n",
    "                K = P @ H.T @ np.linalg.inv(H @ P @ H.T + R)\n",
    "                z = -x_h[3:6, k]\n",
    "                dx = K @ z\n",
    "                x_h[:, k], quat = self.comp_internal_states(x_h[:, k], dx, quat)\n",
    "                P = (Id - K @ H) @ P\n",
    "                P = (P + P.T) / 2\n",
    "                cov[:, k] = np.diag(P)\n",
    "\n",
    "        if adpt_flag:\n",
    "            t = self.simdata['Ts'] * np.arange(N)\n",
    "            gamma[gamma > -1e2] = -1e1\n",
    "            \n",
    "        return x_h, cov, quat, P\n",
    "\n",
    "    def init_vec(self, N, P): # checked\n",
    "        cov = np.zeros((9, N))\n",
    "        x_h = np.zeros((9, N))\n",
    "        Id = np.eye(P.shape[0])\n",
    "        cov[:, 0] = np.diag(P)\n",
    "        return x_h, cov, Id\n",
    "    \n",
    "    def init_Nav_eq(self, u): # checked\n",
    "        f_u = np.mean(u[0, :20])\n",
    "        f_v = np.mean(u[1, :20])\n",
    "        f_w = np.mean(u[2, :20])\n",
    "\n",
    "        roll = np.arctan2(-f_v, -f_w)\n",
    "        pitch = np.arctan2(f_u, np.sqrt(f_v ** 2 + f_w ** 2))\n",
    "\n",
    "        attitude = np.array([roll, pitch, self.simdata['init_heading']])\n",
    "        Rb2t = Rt2b(attitude).T\n",
    "        quat = dcm2q(Rb2t)\n",
    "\n",
    "        x = np.zeros(9)\n",
    "        x[0:3] = self.simdata['init_pos'].flatten()\n",
    "        x[6:9] = attitude\n",
    "        return x, quat\n",
    "\n",
    "    def init_filter(self, init_P=None): # checked\n",
    "        P = np.zeros((9, 9))\n",
    "        Q = np.zeros((6, 6))\n",
    "        H = np.zeros((3, 9))\n",
    "        \n",
    "        if init_P is not None:\n",
    "            P = init_P\n",
    "        else:\n",
    "            P[0:3, 0:3] = np.diag(self.simdata['sigma_initial_pos'].ravel() ** 2)\n",
    "            P[3:6, 3:6] = np.diag(self.simdata['sigma_initial_vel'].ravel() ** 2)\n",
    "            P[6:9, 6:9] = np.diag(self.simdata['sigma_initial_att'].ravel() ** 2)\n",
    "\n",
    "\n",
    "        H[0:3, 3:6] = np.eye(3)\n",
    "        Q[0:3, 0:3] = np.diag(self.simdata['sigma_acc'].ravel() ** 2)\n",
    "        Q[3:6, 3:6] = np.diag(self.simdata['sigma_gyro'].ravel() ** 2)\n",
    "        R = np.diag(self.simdata['sigma_vel'] ** 2)\n",
    "\n",
    "        return P, Q, R, H\n",
    "    \n",
    "\n",
    "    def Navigation_equations(self, x, u, q): # checked\n",
    "        y = np.zeros_like(x)\n",
    "        Ts = self.simdata['Ts']\n",
    "\n",
    "        w_tb = u[3:6]\n",
    "        P = w_tb[0] * Ts\n",
    "        Q = w_tb[1] * Ts\n",
    "        R = w_tb[2] * Ts\n",
    "\n",
    "        OMEGA = np.array([[0, R, -Q, P], [-R, 0, P, Q], [Q, -P, 0, R], [-P, -Q, -R, 0]]) * 0.5\n",
    "\n",
    "        v = np.linalg.norm(w_tb) * Ts\n",
    "        if v != 0:\n",
    "            q = (np.cos(v / 2) * np.eye(4) + 2 / v * np.sin(v / 2) * OMEGA) @ q\n",
    "            q = q / np.linalg.norm(q)\n",
    "\n",
    "        Rb2t = q2dcm(q) # checked\n",
    "        y[6] = np.arctan2(Rb2t[2, 1], Rb2t[2, 2])\n",
    "        y[7] = -np.arctan(Rb2t[2, 0] / np.sqrt(1 - Rb2t[2, 0] ** 2))\n",
    "        y[8] = np.arctan2(Rb2t[1, 0], Rb2t[0, 0])\n",
    "\n",
    "        g_t = np.array([0, 0, self.simdata['g']])\n",
    "        f_t = Rb2t @ u[0:3]\n",
    "        acc_t = f_t + g_t\n",
    "\n",
    "        A = np.eye(6)\n",
    "        A[0, 3] = Ts\n",
    "        A[1, 4] = Ts\n",
    "        A[2, 5] = Ts\n",
    "        B = np.vstack(((Ts ** 2) / 2 * np.eye(3), Ts * np.eye(3)))\n",
    "\n",
    "        y[0:6] = A @ x[0:6] + B @ acc_t\n",
    "\n",
    "        return y, q\n",
    "    \n",
    "    def state_matrix(self, q, u): # checked\n",
    "        Rb2t = q2dcm(q)\n",
    "        f_t = Rb2t @ u[0:3]\n",
    "        St = np.array([[0, -f_t[2], f_t[1]], [f_t[2], 0, -f_t[0]], [-f_t[1], f_t[0], 0]])\n",
    "\n",
    "        O = np.zeros((3, 3))\n",
    "        I = np.eye(3)\n",
    "        Fc = np.block([\n",
    "            [O, I, O],\n",
    "            [O, O, St],\n",
    "            [O, O, O]\n",
    "        ])\n",
    "        Gc = np.block([\n",
    "            [O, O],\n",
    "            [Rb2t, O],\n",
    "            [O, -Rb2t]\n",
    "        ])\n",
    "\n",
    "        F = np.eye(Fc.shape[0]) + (self.simdata['Ts'] * Fc)\n",
    "        G = self.simdata['Ts'] * Gc\n",
    "        return F, G\n",
    "    \n",
    "    def comp_internal_states(self, x_in, dx, q_in):\n",
    "        R = q2dcm(q_in)\n",
    "        x_out = x_in + dx\n",
    "\n",
    "        epsilon = dx[6:9]\n",
    "        OMEGA = np.array([[0, -epsilon[2], epsilon[1]], \n",
    "                    [epsilon[2], 0, -epsilon[0]], \n",
    "                    [-epsilon[1], epsilon[0], 0]])\n",
    "        R = (np.eye(3) - OMEGA) @ R\n",
    "        x_out[6] = np.arctan2(R[2, 1], R[2, 2])\n",
    "        x_out[7] = -np.arctan(R[2, 0] / np.sqrt(1 - R[2, 0] ** 2))\n",
    "        x_out[8] = np.arctan2(R[1, 0], R[0, 0])\n",
    "        q_out = dcm2q(R)\n",
    "        return x_out, q_out\n",
    "    \n",
    "    def comp_imu_errors(self, u_in, x_h):\n",
    "        u_out = u_in\n",
    "        return u_out"
   ]
  },
  {
   "cell_type": "markdown",
   "metadata": {},
   "source": [
    "### TEST code"
   ]
  },
  {
   "cell_type": "code",
   "execution_count": 3,
   "metadata": {},
   "outputs": [],
   "source": [
    "u = func_loaddataset('./data_inert.txt')"
   ]
  },
  {
   "cell_type": "code",
   "execution_count": 4,
   "metadata": {},
   "outputs": [
    {
     "data": {
      "text/plain": [
       "(6, 11900)"
      ]
     },
     "execution_count": 4,
     "metadata": {},
     "output_type": "execute_result"
    }
   ],
   "source": [
    "u.shape"
   ]
  },
  {
   "cell_type": "code",
   "execution_count": 5,
   "metadata": {},
   "outputs": [],
   "source": [
    "simdata = Init_det_glrt()\n",
    "# Variables for calculating the performance\n",
    "D = len(simdata['data_sets'])\n",
    "Jadapt = 0\n",
    "Jadapt_all = np.zeros((D, 3))\n",
    "gamma_vec = np.logspace(4, 6, 20)\n",
    "M = len(gamma_vec)\n",
    "ctr = 1\n",
    "Niter = M\n",
    "Jfixed = np.zeros(M)\n",
    "Jfixed_all = np.zeros((M, D, 3))\n",
    "\n",
    "ins = INS(simdata)"
   ]
  },
  {
   "cell_type": "code",
   "execution_count": 6,
   "metadata": {},
   "outputs": [],
   "source": [
    "u1 = u[:,:4000]\n",
    "u2 = u[:,4000:8000]\n",
    "u3 = u[:,8000:12000]"
   ]
  },
  {
   "cell_type": "code",
   "execution_count": 7,
   "metadata": {},
   "outputs": [],
   "source": [
    "z1, l1 = ins.detector_adaptive(u1)\n",
    "z2, l2 = ins.detector_adaptive(u2)\n",
    "z3, l3 = ins.detector_adaptive(u3)"
   ]
  },
  {
   "cell_type": "code",
   "execution_count": 8,
   "metadata": {},
   "outputs": [],
   "source": [
    "za, la = ins.detector_adaptive(u[:, :12000])"
   ]
  },
  {
   "cell_type": "code",
   "execution_count": 9,
   "metadata": {},
   "outputs": [
    {
     "data": {
      "text/plain": [
       "True"
      ]
     },
     "execution_count": 9,
     "metadata": {},
     "output_type": "execute_result"
    }
   ],
   "source": [
    "np.all(np.hstack((z1,z2,z3)) == za)"
   ]
  },
  {
   "cell_type": "code",
   "execution_count": 10,
   "metadata": {},
   "outputs": [
    {
     "data": {
      "text/plain": [
       "False"
      ]
     },
     "execution_count": 10,
     "metadata": {},
     "output_type": "execute_result"
    }
   ],
   "source": [
    "np.all(np.hstack((l1,l2,l3)) == la)"
   ]
  },
  {
   "cell_type": "code",
   "execution_count": 11,
   "metadata": {},
   "outputs": [
    {
     "name": "stdout",
     "output_type": "stream",
     "text": [
      "0\n",
      "1\n",
      "[-2.05112452e+00  2.19972028e+01  2.42584563e-01 -2.92523217e-01\n",
      " -2.96729391e-01  6.07348701e-01  3.01052880e+00  1.51364361e-02\n",
      " -1.26907597e+00]\n"
     ]
    }
   ],
   "source": [
    "zupt , logL = ins.detector_adaptive(u[:, :8000])\n",
    "x_h, _, _, _ = ins.baseline2(u[:, :8000], zupt, logL, True)\n",
    "\n",
    "xhs = None\n",
    "logLs = None\n",
    "n = 4000\n",
    "num_batches = len(u[0]) // n\n",
    "init_x2 = None\n",
    "init_quat2 = None\n",
    "init_P2 = None\n",
    "counter = 0\n",
    "\n",
    "\n",
    "for i in range(num_batches+1):\n",
    "    print(i)\n",
    "    ui = u[:, i*n:(i+1)*n]\n",
    "    if init_x2 is None:\n",
    "        zupt2 , logL2 = ins.detector_adaptive(ui)\n",
    "        x_h2, _, quat2, P2 = ins.baseline2(ui, zupt2, logL2, True) # 9, N\n",
    "    else:\n",
    "        print(init_x2)\n",
    "        zupt2 , logL2 = ins.detector_adaptive(ui)\n",
    "        x_h2, _, quat2, P2 = ins.baseline3(ui, zupt2, logL2, True, init_x2, init_quat2, init_P2) # 9, N\n",
    "    init_x2, init_quat2, init_P2 = x_h2[:,-1], quat2, P2\n",
    "    if xhs is None:\n",
    "        xhs = x_h2\n",
    "    else:\n",
    "        xhs = np.hstack((xhs,x_h2))\n",
    "    if logLs is None:\n",
    "        logLs = logL2\n",
    "    else:\n",
    "        logLs = np.hstack((logLs,logL2))\n",
    "    \n",
    "    if i >= 1:\n",
    "        break\n"
   ]
  },
  {
   "cell_type": "code",
   "execution_count": 12,
   "metadata": {},
   "outputs": [
    {
     "data": {
      "text/plain": [
       "array([[ True,  True,  True, ...,  True, False, False]])"
      ]
     },
     "execution_count": 12,
     "metadata": {},
     "output_type": "execute_result"
    }
   ],
   "source": [
    "logL==logLs"
   ]
  },
  {
   "cell_type": "code",
   "execution_count": 13,
   "metadata": {},
   "outputs": [
    {
     "data": {
      "text/plain": [
       "(array([0., 0., 0.]), array([0., 0., 0.]))"
      ]
     },
     "execution_count": 13,
     "metadata": {},
     "output_type": "execute_result"
    }
   ],
   "source": [
    "x_h[:3, 0] , xhs[:3, 0]"
   ]
  },
  {
   "cell_type": "code",
   "execution_count": 14,
   "metadata": {},
   "outputs": [
    {
     "data": {
      "text/plain": [
       "(array([-6.04281723,  2.26387556,  0.06875428]),\n",
       " array([-5.53793629,  2.35151431,  0.22561709]))"
      ]
     },
     "execution_count": 14,
     "metadata": {},
     "output_type": "execute_result"
    }
   ],
   "source": [
    "x_h[:3, -1] , xhs[:3, -1]"
   ]
  },
  {
   "cell_type": "code",
   "execution_count": 15,
   "metadata": {},
   "outputs": [
    {
     "data": {
      "text/plain": [
       "(array([-2.05112452, 21.99720281,  0.24258456]),\n",
       " array([-2.05112452, 21.99720281,  0.24258456]))"
      ]
     },
     "execution_count": 15,
     "metadata": {},
     "output_type": "execute_result"
    }
   ],
   "source": [
    "x_h[:3,n-1] , xhs[:3, n-1]"
   ]
  },
  {
   "cell_type": "code",
   "execution_count": 16,
   "metadata": {},
   "outputs": [
    {
     "data": {
      "text/plain": [
       "((1, 8000), (1, 4000))"
      ]
     },
     "execution_count": 16,
     "metadata": {},
     "output_type": "execute_result"
    }
   ],
   "source": [
    "zupt.shape , zupt2.shape"
   ]
  },
  {
   "cell_type": "code",
   "execution_count": 17,
   "metadata": {},
   "outputs": [
    {
     "name": "stderr",
     "output_type": "stream",
     "text": [
      "C:\\Users\\USER\\AppData\\Local\\Temp\\ipykernel_20368\\661462750.py:1: DeprecationWarning: elementwise comparison failed; this will raise an error in the future.\n",
      "  np.all(zupt[:, 500:] == zupt2[:, :500])\n"
     ]
    },
    {
     "data": {
      "text/plain": [
       "False"
      ]
     },
     "execution_count": 17,
     "metadata": {},
     "output_type": "execute_result"
    }
   ],
   "source": [
    "np.all(zupt[:, 500:] == zupt2[:, :500])"
   ]
  },
  {
   "cell_type": "code",
   "execution_count": 18,
   "metadata": {},
   "outputs": [
    {
     "data": {
      "text/plain": [
       "((1, 8000), (1, 8000))"
      ]
     },
     "execution_count": 18,
     "metadata": {},
     "output_type": "execute_result"
    }
   ],
   "source": [
    "logL.shape , logLs.shape"
   ]
  },
  {
   "cell_type": "code",
   "execution_count": 19,
   "metadata": {},
   "outputs": [
    {
     "data": {
      "text/plain": [
       "False"
      ]
     },
     "execution_count": 19,
     "metadata": {},
     "output_type": "execute_result"
    }
   ],
   "source": [
    "np.all(logL == logLs)"
   ]
  },
  {
   "cell_type": "code",
   "execution_count": null,
   "metadata": {},
   "outputs": [],
   "source": []
  },
  {
   "cell_type": "markdown",
   "metadata": {},
   "source": [
    "## TEST batch adaptive problem"
   ]
  },
  {
   "cell_type": "code",
   "execution_count": 20,
   "metadata": {},
   "outputs": [
    {
     "data": {
      "text/plain": [
       "((6, 4000), (6, 4000), (6, 3900))"
      ]
     },
     "execution_count": 20,
     "metadata": {},
     "output_type": "execute_result"
    }
   ],
   "source": [
    "u1.shape, u2.shape, u3.shape"
   ]
  },
  {
   "cell_type": "code",
   "execution_count": 21,
   "metadata": {},
   "outputs": [],
   "source": [
    "T1 = ins.GLRT(u1)\n",
    "T2 = ins.GLRT(u2)\n",
    "T3 = ins.GLRT(u3)"
   ]
  },
  {
   "cell_type": "code",
   "execution_count": 22,
   "metadata": {},
   "outputs": [],
   "source": [
    "Ta = ins.GLRT(u)"
   ]
  },
  {
   "cell_type": "code",
   "execution_count": 23,
   "metadata": {},
   "outputs": [
    {
     "data": {
      "text/plain": [
       "(11896,)"
      ]
     },
     "execution_count": 23,
     "metadata": {},
     "output_type": "execute_result"
    }
   ],
   "source": [
    "Ta.shape"
   ]
  },
  {
   "cell_type": "code",
   "execution_count": 24,
   "metadata": {},
   "outputs": [
    {
     "data": {
      "text/plain": [
       "(11888,)"
      ]
     },
     "execution_count": 24,
     "metadata": {},
     "output_type": "execute_result"
    }
   ],
   "source": [
    "np.hstack((T1,T2,T3)).shape"
   ]
  },
  {
   "cell_type": "code",
   "execution_count": 35,
   "metadata": {},
   "outputs": [],
   "source": [
    "zupt , logL = ins.detector_adaptive(u[:, :8000])\n",
    "x_h, _, _, _ = ins.baseline2(u[:, :8000], zupt, logL, True)"
   ]
  },
  {
   "cell_type": "code",
   "execution_count": 42,
   "metadata": {},
   "outputs": [],
   "source": [
    "xhs = None\n",
    "logLs = None\n",
    "n = 4000\n",
    "num_batches = len(u[0]) // n\n",
    "init_x2 = None\n",
    "init_quat2 = None\n",
    "init_P2 = None\n",
    "counter = 0\n",
    "\n",
    "i = 0\n",
    "ui = u[:, i*n:(i+1)*n]\n",
    "# zupt2 , logL2 = ins.detector_adaptive(ui)\n",
    "x_h2, _, quat2, P2 = ins.baseline2(ui, zupt[:, :4000], logL[:, :4000], True) # 9, N\n",
    "init_x2, init_quat2, init_P2 = x_h2[:,-1], quat2, P2\n",
    "xhs = x_h2\n",
    "logLs = logL2\n",
    "\n",
    "# i = 1\n",
    "# # zupt2 , logL2 = ins.detector_adaptive(ui)\n",
    "# x_h2, _, quat2, P2 = ins.baseline3(ui, zupt[:, 4000:8000], logL[:, 4000:8000], True, init_x2, init_quat2, init_P2) # 9, N\n",
    "# xhs = np.hstack((xhs,x_h2))\n",
    "# logLs = np.hstack((logLs,logL2))\n"
   ]
  },
  {
   "cell_type": "code",
   "execution_count": 45,
   "metadata": {},
   "outputs": [
    {
     "data": {
      "text/plain": [
       "(array([-2.05112452, 21.99720281,  0.24258456]),\n",
       " array([-2.05112452, 21.99720281,  0.24258456]))"
      ]
     },
     "execution_count": 45,
     "metadata": {},
     "output_type": "execute_result"
    }
   ],
   "source": [
    "x_h2[:3, -1] , x_h[:3,4000-1]"
   ]
  },
  {
   "cell_type": "code",
   "execution_count": 47,
   "metadata": {},
   "outputs": [],
   "source": [
    "Id = np.eye(9)\n",
    "N = 4000\n",
    "x_temp = np.zeros((9,N))\n",
    "x_temp[:, 0] = x_h2[:, -1]\n",
    "zupt = np.zeros((1, N + 5), dtype=bool)\n",
    "dT = 0\n",
    "gamma = np.zeros(N)"
   ]
  },
  {
   "cell_type": "code",
   "execution_count": null,
   "metadata": {},
   "outputs": [],
   "source": [
    "Id = np.eye(9)\n",
    "N = 4000\n",
    "x_temp = np.zeros((9,N))\n",
    "x_temp[:, 0] = x_h2[:, -1]\n",
    "imu = u2\n",
    "\n",
    "zupt = np.zeros((1, len(logL[0]) + 5), dtype=bool)\n",
    "delta_t = 0\n",
    "gamma = np.zeros(len(logL[0]))\n",
    "if ins.simdata['detector_prio'] == 'normalized velocity':\n",
    "    c1, c2, c3 = -1e2 * ins.simdata['Window_size'] / 2, -5e4 * ins.simdata['Window_size'] / 2, 100\n",
    "else:\n",
    "    c1, c2, c3 = -1e2 * ins.simdata['Window_size'] / 2, -5e4 * ins.simdata['Window_size'] / 2, 0\n",
    "\n",
    "for k in range(0, N):\n",
    "    u_h = ins.comp_imu_errors(imu[:, k], x_h[:, k-1])  # Computation of IMU errors\n",
    "    x_h[:, k], quat = ins.Navigation_equations(x_h[:, k-1], u_h, quat)  # Navigation equations\n",
    "    F, G = ins.state_matrix(quat, u_h)  # State matrix calculation\n",
    "\n",
    "    P = F @ P @ F.T + G @ ins.Q @ G.T\n",
    "    P = (P + P.T) / 2\n",
    "\n",
    "    S = P[3:6, 3:6]\n",
    "    v = x_h[3:6, k]\n",
    "\n",
    "    gamma[k] = c1 + c2 * delta_t + c3 * (v.T @ np.linalg.inv(S) @ v)\n",
    "    if logL[0][k] > gamma[k]:\n",
    "        zupt[0][k:k + ins.simdata['Window_size']] = True\n",
    "        delta_t = 0\n",
    "    else:\n",
    "        delta_t += ins.simdata['Ts']\n",
    "\n",
    "    if zupt[0][k]:\n",
    "        K = P @ ins.H.T @ np.linalg.inv(ins.H @ P @ ins.H.T + ins.R)\n",
    "        z = -x_h[3:6, k]\n",
    "        dx = K @ z\n",
    "        x_h[:, k], quat = ins.comp_internal_states(x_h[:, k], dx, quat)\n",
    "        P = (Id - K @ ins.H) @ P\n",
    "        P = (P + P.T) / 2"
   ]
  }
 ],
 "metadata": {
  "kernelspec": {
   "display_name": "beer",
   "language": "python",
   "name": "python3"
  },
  "language_info": {
   "codemirror_mode": {
    "name": "ipython",
    "version": 3
   },
   "file_extension": ".py",
   "mimetype": "text/x-python",
   "name": "python",
   "nbconvert_exporter": "python",
   "pygments_lexer": "ipython3",
   "version": "3.8.13"
  }
 },
 "nbformat": 4,
 "nbformat_minor": 2
}
